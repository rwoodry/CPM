{
 "cells": [
  {
   "cell_type": "code",
   "execution_count": 2,
   "metadata": {},
   "outputs": [],
   "source": [
    "import nilearn\n",
    "from nilearn.connectome import ConnectivityMeasure\n",
    "import pickle\n",
    "import numpy as np\n",
    "import scipy as sp"
   ]
  },
  {
   "cell_type": "code",
   "execution_count": 3,
   "metadata": {},
   "outputs": [],
   "source": [
    "with open('X_MLDL_162_thr25_regions.pickle', 'rb') as handle:\n",
    "    sub_X_dict = pickle.load(handle)\n",
    "\n",
    "with open('Y_MLDL_162_thr25_regions.pickle', 'rb') as y_handle:\n",
    "    sub_Y_dict = pickle.load(y_handle)"
   ]
  },
  {
   "cell_type": "code",
   "execution_count": 4,
   "metadata": {},
   "outputs": [
    {
     "name": "stdout",
     "output_type": "stream",
     "text": [
      "(63, 162)\n"
     ]
    }
   ],
   "source": [
    "test = sub_X_dict['014']\n",
    "print(test[0].shape)\n",
    "connectivity = ConnectivityMeasure(kind = 'correlation', vectorize = True) # We vectorize the Functional Connectivity, so it is easier to run the SVC classifier on\n",
    "connectomes = connectivity.fit_transform(test)\n"
   ]
  },
  {
   "cell_type": "code",
   "execution_count": 5,
   "metadata": {},
   "outputs": [],
   "source": [
    "z = np.apply_along_axis(sp.stats.zscore, 1, connectomes)"
   ]
  },
  {
   "cell_type": "code",
   "execution_count": 6,
   "metadata": {},
   "outputs": [],
   "source": [
    "def threshold_array(array, threshold = 0):\n",
    "    abs_thresh = np.quantile(np.abs(array), q = threshold)\n",
    "    arr = ((array <= -abs_thresh) | (array >= abs_thresh)) * array\n",
    "    return(arr)\n",
    "test3 = np.apply_along_axis(threshold_array, 1, connectomes, threshold = 0.8)"
   ]
  },
  {
   "cell_type": "code",
   "execution_count": 7,
   "metadata": {},
   "outputs": [
    {
     "data": {
      "text/plain": [
       "(506933,)"
      ]
     },
     "execution_count": 7,
     "metadata": {},
     "output_type": "execute_result"
    }
   ],
   "source": [
    "test3[test3 == 0].shape"
   ]
  },
  {
   "cell_type": "code",
   "execution_count": 95,
   "metadata": {},
   "outputs": [
    {
     "data": {
      "text/plain": [
       "(48, 13203)"
      ]
     },
     "execution_count": 95,
     "metadata": {},
     "output_type": "execute_result"
    }
   ],
   "source": [
    "test3.shape"
   ]
  },
  {
   "cell_type": "code",
   "execution_count": null,
   "metadata": {},
   "outputs": [],
   "source": []
  }
 ],
 "metadata": {
  "kernelspec": {
   "display_name": "Python 3",
   "language": "python",
   "name": "python3"
  },
  "language_info": {
   "codemirror_mode": {
    "name": "ipython",
    "version": 3
   },
   "file_extension": ".py",
   "mimetype": "text/x-python",
   "name": "python",
   "nbconvert_exporter": "python",
   "pygments_lexer": "ipython3",
   "version": "3.6.9"
  }
 },
 "nbformat": 4,
 "nbformat_minor": 4
}
